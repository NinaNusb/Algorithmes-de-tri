{
 "cells": [
  {
   "cell_type": "markdown",
   "id": "717ac397",
   "metadata": {},
   "source": [
    "# Les algorithmes de tri\n",
    "\n",
    "## Écriture et tests de deux algorithmes de tri\n",
    "\n",
    "Les algorithmes de tri sont un grand classique dans l’apprentissage de l'algorithmique. Ils permettent de découvrir la notion de complexité algorithmique, mais surtout, sont accessibles sans connaissances compliquées. (Ils n'utilisent que de simples boucles for et while, des instructions if, et des méthodes des listes que vous connaissez)\n",
    "\n",
    "L'objectif du jour est donc de créer deux fonctions qui prendront en paramètre une liste, et renverront cette liste triée. Il existe de nombreux algorithmes de tri, nous allons essayer d'en couvrir un maximum. Chaque groupe aura donc deux algorithmes à travailler.\n",
    "\n",
    "**Attention :** Pensez bien à travailler avec une copie de la liste ! (voir utilisation de la méthode copy() des listes)"
   ]
  },
  {
   "cell_type": "code",
   "execution_count": 1,
   "id": "c47e3514",
   "metadata": {},
   "outputs": [],
   "source": [
    "def tri_par_selection(liste_a_trier):\n",
    "    \"\"\"\n",
    "    Fonction qui trie une liste par ordre croissant\n",
    "    :param liste_a_trier: (list) Une liste de nombre à trier\n",
    "    :return: (list) la liste triée\n",
    "    \"\"\"\n",
    "    for i in range(len(liste_a_trier)):\n",
    "      # Trouver le min\n",
    "        min = i\n",
    "        for j in range(i+1, len(liste_a_trier)):\n",
    "            if liste_a_trier[min] > liste_a_trier[j]:\n",
    "                min = j\n",
    "\n",
    "        tmp = liste_a_trier[i]\n",
    "        liste_a_trier[i] = liste_a_trier[min]\n",
    "        liste_a_trier[min] = tmp\n",
    "    return liste_a_trier\n",
    "    \n",
    "def tri_a_bulle(liste_a_trier):\n",
    "    \"\"\"\n",
    "    Fonction qui trie une liste par ordre croissant\n",
    "    :param liste_a_trier: (list) Une liste de nombre à trier\n",
    "    :return: (list) la liste triée\n",
    "    \"\"\"\n",
    "    n = len(liste_a_trier)\n",
    "    # Traverser tous les éléments du tableau\n",
    "    for i in range(n):\n",
    "        for j in range(0, n-i-1):\n",
    "            # échanger si l'élément trouvé est plus grand que le suivant\n",
    "            if liste_a_trier[j] > liste_a_trier[j+1] :\n",
    "                liste_a_trier[j], liste_a_trier[j+1] = liste_a_trier[j+1], liste_a_trier[j]# remplacer pass par le code de votre fonction\n",
    "    return(liste_a_trier)"
   ]
  },
  {
   "cell_type": "markdown",
   "id": "58538aef",
   "metadata": {},
   "source": [
    "Pour tester vos fonctions, vous pouvez exécuter la cellule suivante :"
   ]
  },
  {
   "cell_type": "code",
   "execution_count": 2,
   "id": "1804a02d",
   "metadata": {},
   "outputs": [
    {
     "name": "stdout",
     "output_type": "stream",
     "text": [
      "Votre fonction tri renvoie :\n",
      "[-777, -6, 0, 1, 3, 6, 6, 9, 15, 76, 78, 123, 999, 1234]\n",
      "\u001b[92mVotre fonction tri fonctionne !\u001b[0m\n",
      "----------\n",
      "Votre fonction tri2 renvoie :\n",
      "[-777, -6, 0, 1, 3, 6, 6, 9, 15, 76, 78, 123, 999, 1234]\n",
      "\u001b[92mVotre fonction tri2 fonctionne !\u001b[0m\n"
     ]
    }
   ],
   "source": [
    "from random import randint, seed\n",
    "\n",
    "def test_tri(liste):\n",
    "    \"\"\"\n",
    "    Fonction qui teste vos fonctions tri et tri2.\n",
    "    \"\"\"\n",
    "    test_liste = liste[:]\n",
    "    test_liste.sort()\n",
    "    print(\"Votre fonction tri renvoie :\")\n",
    "    print(tri_par_selection(liste))\n",
    "    if test_liste == tri_par_selection(liste):\n",
    "        print(\"\\033[92m\" + \"Votre fonction tri fonctionne !\" + \"\\033[0m\")\n",
    "    else:\n",
    "        print(\"\\033[91m\" + \"votre fonction tri ne fonctionne pas\" + \"\\033[0m\")\n",
    "    \n",
    "    print(\"----------\")\n",
    "    \n",
    "    print(\"Votre fonction tri2 renvoie :\")\n",
    "    print(tri_a_bulle(liste))\n",
    "    if test_liste == tri_a_bulle(liste):\n",
    "        print(\"\\033[92m\" + \"Votre fonction tri2 fonctionne !\" + \"\\033[0m\")\n",
    "    else:\n",
    "        print(\"\\033[91m\" + \"votre fonction tri2 ne fonctionne pas\" + \"\\033[0m\")\n",
    "    \n",
    "\n",
    "\n",
    "liste = [0, -6, 78, 76, 1, 9, 15, 999, 1234, 3, -777, 123, 6, 6]\n",
    "test_tri(liste)\n"
   ]
  },
  {
   "cell_type": "markdown",
   "id": "9ed00720",
   "metadata": {},
   "source": [
    "## Comparaison entre les algorithmes\n",
    "\n",
    "Pour tester quel algorithme est le plus rapide, et dans quelles situations, nous allons les utiliser sur 3 listes qui représentent 3 cas courants. Le premier est une liste triée, par ordre décroissant. La deuxième, une liste déjà triée, et la 3ème, une liste aléatoire."
   ]
  },
  {
   "cell_type": "code",
   "execution_count": 3,
   "id": "fb262032",
   "metadata": {},
   "outputs": [],
   "source": [
    "seed(1234567890) # Création de la seed (Permet de générer toujours les mêmes nombres aléatoires à chaque execution)\n",
    "liste1 = [5000 - i for i in range(5000)] # Liste classée par ordre décroissant\n",
    "liste2 = [i*3 for i in range(5000)] # Liste déjà triée\n",
    "liste3 = [randint(0, 10000) for _ in range(5000)] # Liste aléatoire"
   ]
  },
  {
   "cell_type": "markdown",
   "id": "69c3b000",
   "metadata": {},
   "source": [
    "À l'aide du module time, mesurez combien de temps met l'ordinateur pour trier la liste 1 avec votre fonction tri().\n",
    "Répétez plusieurs fois la mesure. Qu'observez-vous ?"
   ]
  },
  {
   "cell_type": "code",
   "execution_count": 4,
   "id": "f3238054",
   "metadata": {},
   "outputs": [
    {
     "data": {
      "text/plain": [
       "'\\nstart = time.time()\\nprint(\"This time is being calculated\")\\ntri_a_bulle(liste1)\\nexecution = time.time() - start\\nprint(\"Execution Time: \", execution)'"
      ]
     },
     "execution_count": 4,
     "metadata": {},
     "output_type": "execute_result"
    }
   ],
   "source": [
    "# Écrire ici le code permettant de mesurer le temps d'exécution de votre fonction tri()\n",
    "import time\n",
    "\"\"\"\n",
    "start = time.time()\n",
    "print(\"This time is being calculated\")\n",
    "tri_a_bulle(liste1)\n",
    "execution = time.time() - start\n",
    "print(\"Execution Time: \", execution)\"\"\""
   ]
  },
  {
   "cell_type": "markdown",
   "id": "b31666ea",
   "metadata": {},
   "source": [
    "L'ordinateur ayant beaucoup de tâches en arrière plan, le temps d'éxécution peut varier en fonction de celles-ci. Par exemple, si l'antivirus lance un scan pendant l'exécution de notre code, celui-ci peut être ralenti.\n",
    "\n",
    "Afin de limiter l'influence des programmes extérieur sur la mesure du temps de notre programme, il est possible de répéter 100x la mesure, et calculer le temps d'exécution moyen."
   ]
  },
  {
   "cell_type": "code",
   "execution_count": 5,
   "id": "cd52b47b",
   "metadata": {},
   "outputs": [
    {
     "name": "stdout",
     "output_type": "stream",
     "text": [
      "Execution Time:  90.93900148499961\n"
     ]
    }
   ],
   "source": [
    "# Écrire ici le code permettant calculer le temps moyen d'exécution de la fonction tri()\n",
    "# après 100 essais avec la liste1\n",
    "timer_start = time.perf_counter()\n",
    "for i in range(1,100):\n",
    "    tri_par_selection(liste1)\n",
    "timer_end = time.perf_counter()\n",
    "execution = timer_end - timer_start\n",
    "print(\"Execution Time: \", execution)"
   ]
  },
  {
   "cell_type": "markdown",
   "id": "c6c2c91c",
   "metadata": {},
   "source": [
    "Maintenant, réalisez à nouveau cette mesure du temps moyen, mais sur les listes \"liste2\" et \"liste3\"\n",
    "\n",
    "Observez-vous des différences significatives dans ces temps d'exécution ?"
   ]
  },
  {
   "cell_type": "code",
   "execution_count": 9,
   "id": "3db9bfb1",
   "metadata": {},
   "outputs": [
    {
     "name": "stdout",
     "output_type": "stream",
     "text": [
      "Execution Time:  90.99667296900043\n"
     ]
    }
   ],
   "source": [
    "# Écrire ici le code permettant calculer le temps moyen d'exécution de la fonction tri()\n",
    "# après 100 essais avec la liste2 puis la liste3\n",
    "timer_start = time.perf_counter()\n",
    "for i in range(1,100):\n",
    "    tri_par_selection(liste2)\n",
    "timer_end = time.perf_counter()\n",
    "execution = timer_end - timer_start\n",
    "print(\"Execution Time: \", execution)"
   ]
  },
  {
   "cell_type": "code",
   "execution_count": 12,
   "id": "f6fd5ead",
   "metadata": {},
   "outputs": [
    {
     "name": "stdout",
     "output_type": "stream",
     "text": [
      "Execution Time:  78.97420202800004\n"
     ]
    }
   ],
   "source": [
    "timer_start = time.perf_counter()\n",
    "for i in range(1,100):\n",
    "    tri_par_selection(liste3)\n",
    "timer_end = time.perf_counter()\n",
    "execution = timer_end - timer_start\n",
    "print(\"Execution Time: \", execut\n",
    "ion)"
   ]
  },
  {
   "cell_type": "markdown",
   "id": "6fd2c2ee",
   "metadata": {},
   "source": [
    "Maintenant, effectuez ces mesures pour la fonction tri2().\n",
    "\n",
    "Un algorithme est-il plus rapide que l'autre ? Est-il plus rapide dans toutes les situations ?"
   ]
  },
  {
   "cell_type": "code",
   "execution_count": 13,
   "id": "767b4d42",
   "metadata": {},
   "outputs": [
    {
     "name": "stdout",
     "output_type": "stream",
     "text": [
      "Execution Time:  103.49940065800001\n"
     ]
    }
   ],
   "source": [
    "timer_start = time.perf_counter()\n",
    "for i in range(1,100):\n",
    "    tri_a_bulle(liste1)\n",
    "timer_end = time.perf_counter()\n",
    "execution = timer_end - timer_start\n",
    "print(\"Execution Time: \", execution)"
   ]
  },
  {
   "cell_type": "code",
   "execution_count": 10,
   "id": "539ad53c",
   "metadata": {},
   "outputs": [
    {
     "name": "stdout",
     "output_type": "stream",
     "text": [
      "Execution Time:  122.07504734799932\n"
     ]
    }
   ],
   "source": [
    "timer_start = time.perf_counter()\n",
    "for i in range(1,100):\n",
    "    tri_a_bulle(liste2)\n",
    "timer_end = time.perf_counter()\n",
    "execution = timer_end - timer_start\n",
    "print(\"Execution Time: \", execution)"
   ]
  },
  {
   "cell_type": "code",
   "execution_count": 11,
   "id": "c5454e01",
   "metadata": {},
   "outputs": [
    {
     "name": "stdout",
     "output_type": "stream",
     "text": [
      "Execution Time:  120.40251094900032\n"
     ]
    }
   ],
   "source": [
    "timer_start = time.perf_counter()\n",
    "for i in range(1,100):\n",
    "    tri_a_bulle(liste3)\n",
    "timer_end = time.perf_counter()\n",
    "execution = timer_end - timer_start\n",
    "print(\"Execution Time: \", execution)"
   ]
  },
  {
   "cell_type": "code",
   "execution_count": null,
   "id": "8fbe41f7",
   "metadata": {},
   "outputs": [],
   "source": [
    "#Tri fusion (avec récursivité)\n",
    "liste = [-5, -7, 7, 2, -2, 12, 13, 14]\n",
    "# Puis divise liste en deux et ainsi de suite jusqu'à avoir 1 élément par liste\n",
    "liste = [-5, -7, 7, 2], [-2, 12, 13, 14]\n",
    "#...\n",
    "liste = [-5, -7], [7, 2], [-2, 12], [13, 14]\n",
    "#...\n",
    "liste = [-5], [-7], [7], [2], [-2], [12], [13], [14]\n",
    "#Puis fusion des listes pour trier\n",
    "liste = [-7, -5], [2, 7], [-2, 12], [13, 14]\n",
    "liste = [-7, -5, 2, 7], [-2, 12, 13, 14]\n",
    "liste = [-7, -5, -2, 2, 7, 12, 13, 14]\n"
   ]
  },
  {
   "cell_type": "code",
   "execution_count": 12,
   "id": "a24257ca",
   "metadata": {},
   "outputs": [
    {
     "name": "stdout",
     "output_type": "stream",
     "text": [
      "[71, 95, 80, 8, 42, 73, 28, 29, 44, 67]\n",
      "[71, 95, 80, 8, 42]\n",
      "[73, 28, 29, 44, 67]\n",
      "[71, 95]\n",
      "[80, 8, 42]\n",
      "[71]\n",
      "[95]\n",
      "[80]\n",
      "[8, 42]\n",
      "[8]\n",
      "[42]\n",
      "[73, 28]\n",
      "[29, 44, 67]\n",
      "[73]\n",
      "[28]\n",
      "[29]\n",
      "[44, 67]\n",
      "[44]\n",
      "[67]\n",
      "[8, 28, 29, 42, 44, 67, 71, 73, 80, 95]\n"
     ]
    }
   ],
   "source": [
    "from random import randint\n",
    "\n",
    "\n",
    "def tri_fusion(liste_a_trier):\n",
    "    if len(liste_a_trier) == 1:\n",
    "        return liste_a_trier\n",
    "    pivot = len(liste_a_trier) //2 #division entière (pas de float) donc si liste impaire, un nombre est mis à part dans une liste unique qui sera ensuite fusionné\n",
    "    liste_gauche = liste_a_trier[:pivot]\n",
    "    liste_droite = liste_a_trier[pivot:]\n",
    "    print(liste_gauche)\n",
    "    print(liste_droite)\n",
    "    gauche = tri_fusion(liste_gauche) #récursivité: liste s'appelle elle-même\n",
    "    droite = tri_fusion(liste_droite)\n",
    "    return fusion(gauche, droite)\n",
    "\n",
    "def fusion(liste_gauche, liste_droite):\n",
    "    resultat = []\n",
    "    taille_gauche = len(liste_gauche)\n",
    "    taille_droite = len(liste_droite)\n",
    "    i = j = 0 #ou affecter nombre à variables en plusieurs lignes i=0 et j =0\n",
    "\n",
    "    while i < taille_gauche and j < taille_droite:\n",
    "        if liste_gauche[i] < liste_droite[j]:\n",
    "            resultat.append(liste_gauche[i])\n",
    "            i += 1\n",
    "        else:\n",
    "            resultat.append(liste_droite[j])\n",
    "            j += 1\n",
    "    if i == taille_gauche:\n",
    "        reste = taille_droite - j\n",
    "        for _ in range(reste):\n",
    "            resultat.append(liste_droite[j])\n",
    "            j += 1\n",
    "    elif j == taille_droite:\n",
    "        reste = taille_gauche - i\n",
    "        for _ in range(reste):\n",
    "            resultat.append(liste_gauche[i])\n",
    "            i += 1\n",
    "    return resultat\n",
    "\n",
    "liste_test = [randint(0,100) for _ in range (10)]\n",
    "print(liste_test)\n",
    "print(tri_fusion(liste_test))\n"
   ]
  },
  {
   "cell_type": "code",
   "execution_count": null,
   "id": "e3fe7de4",
   "metadata": {},
   "outputs": [],
   "source": []
  }
 ],
 "metadata": {
  "kernelspec": {
   "display_name": "Python 3.8.9 64-bit",
   "language": "python",
   "name": "python3"
  },
  "language_info": {
   "codemirror_mode": {
    "name": "ipython",
    "version": 3
   },
   "file_extension": ".py",
   "mimetype": "text/x-python",
   "name": "python",
   "nbconvert_exporter": "python",
   "pygments_lexer": "ipython3",
   "version": "3.10.4"
  },
  "vscode": {
   "interpreter": {
    "hash": "31f2aee4e71d21fbe5cf8b01ff0e069b9275f58929596ceb00d14d90e3e16cd6"
   }
  }
 },
 "nbformat": 4,
 "nbformat_minor": 5
}
